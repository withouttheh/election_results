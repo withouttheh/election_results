{
 "cells": [
  {
   "cell_type": "markdown",
   "id": "0358fa0b-5eb9-46aa-a349-ed6bda46e244",
   "metadata": {},
   "source": [
    "# Introduction:\n",
    "\n",
    "As the 2024 general elections draw near in South Africa, the nation stands at a critical juncture, poised to make decisions that will shape its political landscape for years to come. With the democratic process at the forefront, understanding the intricacies of these elections is paramount. This project aims to delve deep into the dynamics, trends, and factors influencing the upcoming elections, providing valuable insights into voter behavior, political strategies, and the broader socio-political context of South Africa."
   ]
  },
  {
   "cell_type": "code",
   "execution_count": 80,
   "id": "c5fd1ff1-0137-428c-9ffc-8d4c17c01761",
   "metadata": {},
   "outputs": [],
   "source": [
    "import os\n",
    "import requests\n",
    "from bs4 import BeautifulSoup\n",
    "\n",
    "# Define a function to parse HTML content and extract data\n",
    "def parse_html(html):\n",
    "    soup = BeautifulSoup(html, 'html.parser')\n",
    "    table = soup.find('table', class_='wikitable sortable')\n",
    "\n",
    "    if '2014' in soup.title.text:\n",
    "        table = soup.find_all('table', class_='wikitable sortable')[1]\n",
    "    \n",
    "    rows = table.find_all('tr')\n",
    "\n",
    "    if '2009' in soup.title.text:\n",
    "        headings_row = rows[0]\n",
    "        data_rows = rows[0:-7]\n",
    "    else:\n",
    "        headings_row = rows[1]\n",
    "        data_rows = rows[1:-7]\n",
    "        \n",
    "    headings = [th.text.strip() for th in headings_row.find_all('th')]\n",
    "    data = []\n",
    "    data_rows = rows[2:-7]\n",
    "    for row in data_rows:\n",
    "        columns = row.find_all('td')\n",
    "        row_data = [column.text.strip() for column in columns]\n",
    "        data.append(row_data)\n",
    "    return headings, data\n",
    "\n",
    "# Define a function to write data to a CSV file with UTF-8 encoding\n",
    "def write_to_csv(headings, data, filename):\n",
    "    import csv\n",
    "    with open(filename, 'w', newline='', encoding='utf-8') as csvfile:\n",
    "        writer = csv.writer(csvfile)\n",
    "        writer.writerow(headings)\n",
    "        for row in data:\n",
    "            writer.writerow(row)\n"
   ]
  },
  {
   "cell_type": "code",
   "execution_count": 81,
   "id": "2cc0c850-7907-40b0-ac55-7ef20e70e9ef",
   "metadata": {},
   "outputs": [
    {
     "name": "stdout",
     "output_type": "stream",
     "text": [
      "Data for the year 1994 has been written to data/raw/election_results_1994.csv\n",
      "Data for the year 1999 has been written to data/raw/election_results_1999.csv\n",
      "Data for the year 2004 has been written to data/raw/election_results_2004.csv\n",
      "Data for the year 2009 has been written to data/raw/election_results_2009.csv\n",
      "Data for the year 2014 has been written to data/raw/election_results_2014.csv\n",
      "Data for the year 2019 has been written to data/raw/election_results_2019.csv\n"
     ]
    }
   ],
   "source": [
    "# Define the list of years\n",
    "years = [1994, 1999, 2004, 2009, 2014, 2019]\n",
    "\n",
    "# Create the 'data/raw' directory if it doesn't exist\n",
    "os.makedirs('data/raw', exist_ok=True)\n",
    "\n",
    "# Loop through each year\n",
    "for year in years:\n",
    "    # Construct the URL for the Wikipedia page for the current year\n",
    "    url = f'https://en.wikipedia.org/wiki/{year}_South_African_general_election'\n",
    "    \n",
    "    # Fetch HTML content from the URL\n",
    "    response = requests.get(url)\n",
    "    html = response.content\n",
    "    \n",
    "    # Parse HTML content and extract data\n",
    "    headings, data = parse_html(html)\n",
    "    \n",
    "    # Specify the filename for the CSV file\n",
    "    csv_filename = f'data/raw/election_results_{year}.csv'\n",
    "    \n",
    "    # Write data to CSV file\n",
    "    write_to_csv(headings, data, csv_filename)\n",
    "    print(f\"Data for the year {year} has been written to {csv_filename}\")\n"
   ]
  },
  {
   "cell_type": "code",
   "execution_count": null,
   "id": "dc9f55cc-d337-484f-b52b-b64dcac4c363",
   "metadata": {},
   "outputs": [],
   "source": []
  }
 ],
 "metadata": {
  "kernelspec": {
   "display_name": "Python 3 (ipykernel)",
   "language": "python",
   "name": "python3"
  },
  "language_info": {
   "codemirror_mode": {
    "name": "ipython",
    "version": 3
   },
   "file_extension": ".py",
   "mimetype": "text/x-python",
   "name": "python",
   "nbconvert_exporter": "python",
   "pygments_lexer": "ipython3",
   "version": "3.12.2"
  }
 },
 "nbformat": 4,
 "nbformat_minor": 5
}
